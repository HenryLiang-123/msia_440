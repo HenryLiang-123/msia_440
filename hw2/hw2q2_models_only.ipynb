{
 "cells": [
  {
   "cell_type": "code",
   "execution_count": 24,
   "metadata": {},
   "outputs": [
    {
     "name": "stdout",
     "output_type": "stream",
     "text": [
      "Gurobi Optimizer version 10.0.3 build v10.0.3rc0 (linux64)\n",
      "\n",
      "CPU model: 12th Gen Intel(R) Core(TM) i9-12900KF, instruction set [SSE2|AVX|AVX2]\n",
      "Thread count: 24 physical cores, 24 logical processors, using up to 24 threads\n",
      "\n",
      "Optimize a model with 14 rows, 18 columns and 58 nonzeros\n",
      "Model fingerprint: 0x30e48e32\n",
      "Coefficient statistics:\n",
      "  Matrix range     [6e-02, 1e+00]\n",
      "  Objective range  [1e+00, 1e+00]\n",
      "  Bounds range     [0e+00, 0e+00]\n",
      "  RHS range        [1e+01, 3e+01]\n",
      "Presolve removed 0 rows and 1 columns\n",
      "Presolve time: 0.00s\n",
      "Presolved: 14 rows, 17 columns, 57 nonzeros\n",
      "\n",
      "Iteration    Objective       Primal Inf.    Dual Inf.      Time\n",
      "       0    0.0000000e+00   3.171338e+02   0.000000e+00      0s\n",
      "      10    1.8676840e+02   0.000000e+00   0.000000e+00      0s\n",
      "\n",
      "Solved in 10 iterations and 0.00 seconds (0.00 work units)\n",
      "Optimal objective  1.867683968e+02\n",
      "Optimal solution found!\n",
      "Number of Bond 1 to purchase: 73.69\n",
      "Number of Bond 2 to purchase: 77.21\n",
      "Number of Bond 3 to purchase: 28.84\n",
      "Initial savings amount: $9.38K\n"
     ]
    }
   ],
   "source": [
    "from gurobipy import Model, GRB\n",
    "\n",
    "# Data\n",
    "pensions = [12, 14, 15, 16, 18, 20, 21, 22, 24, 25, 30, 31, 31, 31]\n",
    "bond_price = [0.98, 0.97, 1.05]\n",
    "annual_coupon = [0.06, 0.065, 0.075]\n",
    "maturity_year = [5, 11, 14]\n",
    "value_at_maturity = [1, 1, 1]\n",
    "savings_interest = 0.04\n",
    "\n",
    "# Initialize model\n",
    "m = Model(\"PensionFund\")\n",
    "\n",
    "# Decision Variables\n",
    "x = m.addVars(3, name=\"x\")  # Bonds\n",
    "s = m.addVars(15, name=\"s\")  # Savings for each year, including start of Year 1 (s_0)\n",
    "\n",
    "# Objective Function: Minimize the initial investment\n",
    "m.setObjective(sum(bond_price[j]*x[j] for j in range(3)) + s[0], GRB.MINIMIZE)\n",
    "\n",
    "# Constraints\n",
    "\n",
    "# Initial investment (start of Year 1)\n",
    "# Yearly constraints\n",
    "for t in range(1, 15):\n",
    "    inflow = s[t-1] * (1 + savings_interest)  # Principal and interest from previous year's savings\n",
    "    \n",
    "    for j in range(3):\n",
    "        if t < maturity_year[j]:\n",
    "            inflow += annual_coupon[j] * x[j]\n",
    "        elif t == maturity_year[j]:\n",
    "            inflow += (annual_coupon[j] + value_at_maturity[j]) * x[j]\n",
    "\n",
    "    m.addConstr(inflow == pensions[t-1] + s[t])\n",
    "\n",
    "# Solving the model\n",
    "m.optimize()\n",
    "\n",
    "# Printing the results\n",
    "if m.status == GRB.Status.OPTIMAL:\n",
    "    print(\"Optimal solution found!\")\n",
    "    for j in range(3):\n",
    "        print(f\"Number of Bond {j+1} to purchase: {x[j].x:.2f}\")\n",
    "    print(f\"Initial savings amount: ${s[0].x:.2f}K\")\n",
    "else:\n",
    "    print(\"No solution found\")\n"
   ]
  },
  {
   "cell_type": "code",
   "execution_count": 28,
   "metadata": {},
   "outputs": [
    {
     "data": {
      "text/plain": [
       "186771.9"
      ]
     },
     "execution_count": 28,
     "metadata": {},
     "output_type": "execute_result"
    }
   ],
   "source": [
    "73.69 * 980 + 77.21*970 + 28.84*1050 +9380"
   ]
  },
  {
   "cell_type": "code",
   "execution_count": null,
   "metadata": {},
   "outputs": [],
   "source": []
  }
 ],
 "metadata": {
  "kernelspec": {
   "display_name": "msia_env",
   "language": "python",
   "name": "python3"
  },
  "language_info": {
   "codemirror_mode": {
    "name": "ipython",
    "version": 3
   },
   "file_extension": ".py",
   "mimetype": "text/x-python",
   "name": "python",
   "nbconvert_exporter": "python",
   "pygments_lexer": "ipython3",
   "version": "3.10.6"
  },
  "orig_nbformat": 4
 },
 "nbformat": 4,
 "nbformat_minor": 2
}
